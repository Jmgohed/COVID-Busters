{
 "cells": [
  {
   "cell_type": "markdown",
   "metadata": {},
   "source": [
    "# Import Required Packages/Dependencies"
   ]
  },
  {
   "cell_type": "code",
   "execution_count": 1,
   "metadata": {},
   "outputs": [
    {
     "name": "stderr",
     "output_type": "stream",
     "text": [
      "Using TensorFlow backend.\n"
     ]
    }
   ],
   "source": [
    "import tensorflow as tf\n",
    "import tensorflow.compat.v1 as tf\n",
    "import numpy as np\n",
    "import torch\n",
    "import pandas as pd\n",
    "from keras.utils.np_utils import to_categorical\n",
    "from tensorflow.keras import Sequential\n",
    "from tensorflow.keras.layers import Conv2D, Flatten, Dense\n",
    "from keras.optimizers import SGD\n",
    "from tensorflow.keras.callbacks import EarlyStopping\n",
    "from keras.utils import plot_model"
   ]
  },
  {
   "cell_type": "markdown",
   "metadata": {},
   "source": [
    "# Read in CDCCondition dataset"
   ]
  },
  {
   "cell_type": "code",
   "execution_count": 2,
   "metadata": {},
   "outputs": [],
   "source": [
    "cond = pd.read_csv(\"CDCconditions.csv\")"
   ]
  },
  {
   "cell_type": "code",
   "execution_count": 3,
   "metadata": {},
   "outputs": [
    {
     "data": {
      "text/html": [
       "<div>\n",
       "<style scoped>\n",
       "    .dataframe tbody tr th:only-of-type {\n",
       "        vertical-align: middle;\n",
       "    }\n",
       "\n",
       "    .dataframe tbody tr th {\n",
       "        vertical-align: top;\n",
       "    }\n",
       "\n",
       "    .dataframe thead th {\n",
       "        text-align: right;\n",
       "    }\n",
       "</style>\n",
       "<table border=\"1\" class=\"dataframe\">\n",
       "  <thead>\n",
       "    <tr style=\"text-align: right;\">\n",
       "      <th></th>\n",
       "      <th>Data as of</th>\n",
       "      <th>Start Week</th>\n",
       "      <th>End Week</th>\n",
       "      <th>State</th>\n",
       "      <th>Condition Group</th>\n",
       "      <th>Condition</th>\n",
       "      <th>ICD10_codes</th>\n",
       "      <th>Age Group</th>\n",
       "      <th>Number of COVID-19 Deaths</th>\n",
       "      <th>Flag</th>\n",
       "    </tr>\n",
       "  </thead>\n",
       "  <tbody>\n",
       "    <tr>\n",
       "      <th>0</th>\n",
       "      <td>11/8/2020</td>\n",
       "      <td>2/1/2020</td>\n",
       "      <td>11/7/2020</td>\n",
       "      <td>US</td>\n",
       "      <td>Respiratory diseases</td>\n",
       "      <td>Influenza and pneumonia</td>\n",
       "      <td>J09-J18</td>\n",
       "      <td>0-24</td>\n",
       "      <td>160.0</td>\n",
       "      <td>NaN</td>\n",
       "    </tr>\n",
       "    <tr>\n",
       "      <th>1</th>\n",
       "      <td>11/8/2020</td>\n",
       "      <td>2/1/2020</td>\n",
       "      <td>11/7/2020</td>\n",
       "      <td>US</td>\n",
       "      <td>Respiratory diseases</td>\n",
       "      <td>Influenza and pneumonia</td>\n",
       "      <td>J09-J18</td>\n",
       "      <td>25-34</td>\n",
       "      <td>772.0</td>\n",
       "      <td>NaN</td>\n",
       "    </tr>\n",
       "    <tr>\n",
       "      <th>2</th>\n",
       "      <td>11/8/2020</td>\n",
       "      <td>2/1/2020</td>\n",
       "      <td>11/7/2020</td>\n",
       "      <td>US</td>\n",
       "      <td>Respiratory diseases</td>\n",
       "      <td>Influenza and pneumonia</td>\n",
       "      <td>J09-J18</td>\n",
       "      <td>35-44</td>\n",
       "      <td>1981.0</td>\n",
       "      <td>NaN</td>\n",
       "    </tr>\n",
       "    <tr>\n",
       "      <th>3</th>\n",
       "      <td>11/8/2020</td>\n",
       "      <td>2/1/2020</td>\n",
       "      <td>11/7/2020</td>\n",
       "      <td>US</td>\n",
       "      <td>Respiratory diseases</td>\n",
       "      <td>Influenza and pneumonia</td>\n",
       "      <td>J09-J18</td>\n",
       "      <td>45-54</td>\n",
       "      <td>5606.0</td>\n",
       "      <td>NaN</td>\n",
       "    </tr>\n",
       "    <tr>\n",
       "      <th>4</th>\n",
       "      <td>11/8/2020</td>\n",
       "      <td>2/1/2020</td>\n",
       "      <td>11/7/2020</td>\n",
       "      <td>US</td>\n",
       "      <td>Respiratory diseases</td>\n",
       "      <td>Influenza and pneumonia</td>\n",
       "      <td>J09-J18</td>\n",
       "      <td>55-64</td>\n",
       "      <td>13490.0</td>\n",
       "      <td>NaN</td>\n",
       "    </tr>\n",
       "    <tr>\n",
       "      <th>5</th>\n",
       "      <td>11/8/2020</td>\n",
       "      <td>2/1/2020</td>\n",
       "      <td>11/7/2020</td>\n",
       "      <td>US</td>\n",
       "      <td>Respiratory diseases</td>\n",
       "      <td>Influenza and pneumonia</td>\n",
       "      <td>J09-J18</td>\n",
       "      <td>65-74</td>\n",
       "      <td>22222.0</td>\n",
       "      <td>NaN</td>\n",
       "    </tr>\n",
       "    <tr>\n",
       "      <th>6</th>\n",
       "      <td>11/8/2020</td>\n",
       "      <td>2/1/2020</td>\n",
       "      <td>11/7/2020</td>\n",
       "      <td>US</td>\n",
       "      <td>Respiratory diseases</td>\n",
       "      <td>Influenza and pneumonia</td>\n",
       "      <td>J09-J18</td>\n",
       "      <td>75-84</td>\n",
       "      <td>25721.0</td>\n",
       "      <td>NaN</td>\n",
       "    </tr>\n",
       "    <tr>\n",
       "      <th>7</th>\n",
       "      <td>11/8/2020</td>\n",
       "      <td>2/1/2020</td>\n",
       "      <td>11/7/2020</td>\n",
       "      <td>US</td>\n",
       "      <td>Respiratory diseases</td>\n",
       "      <td>Influenza and pneumonia</td>\n",
       "      <td>J09-J18</td>\n",
       "      <td>85+</td>\n",
       "      <td>25824.0</td>\n",
       "      <td>NaN</td>\n",
       "    </tr>\n",
       "    <tr>\n",
       "      <th>8</th>\n",
       "      <td>11/8/2020</td>\n",
       "      <td>2/1/2020</td>\n",
       "      <td>11/7/2020</td>\n",
       "      <td>US</td>\n",
       "      <td>Respiratory diseases</td>\n",
       "      <td>Influenza and pneumonia</td>\n",
       "      <td>J09-J18</td>\n",
       "      <td>Not stated</td>\n",
       "      <td>2.0</td>\n",
       "      <td>NaN</td>\n",
       "    </tr>\n",
       "    <tr>\n",
       "      <th>9</th>\n",
       "      <td>11/8/2020</td>\n",
       "      <td>2/1/2020</td>\n",
       "      <td>11/7/2020</td>\n",
       "      <td>US</td>\n",
       "      <td>Respiratory diseases</td>\n",
       "      <td>Influenza and pneumonia</td>\n",
       "      <td>J09-J18</td>\n",
       "      <td>All Ages</td>\n",
       "      <td>95778.0</td>\n",
       "      <td>NaN</td>\n",
       "    </tr>\n",
       "  </tbody>\n",
       "</table>\n",
       "</div>"
      ],
      "text/plain": [
       "  Data as of Start Week   End Week State       Condition Group  \\\n",
       "0  11/8/2020   2/1/2020  11/7/2020    US  Respiratory diseases   \n",
       "1  11/8/2020   2/1/2020  11/7/2020    US  Respiratory diseases   \n",
       "2  11/8/2020   2/1/2020  11/7/2020    US  Respiratory diseases   \n",
       "3  11/8/2020   2/1/2020  11/7/2020    US  Respiratory diseases   \n",
       "4  11/8/2020   2/1/2020  11/7/2020    US  Respiratory diseases   \n",
       "5  11/8/2020   2/1/2020  11/7/2020    US  Respiratory diseases   \n",
       "6  11/8/2020   2/1/2020  11/7/2020    US  Respiratory diseases   \n",
       "7  11/8/2020   2/1/2020  11/7/2020    US  Respiratory diseases   \n",
       "8  11/8/2020   2/1/2020  11/7/2020    US  Respiratory diseases   \n",
       "9  11/8/2020   2/1/2020  11/7/2020    US  Respiratory diseases   \n",
       "\n",
       "                 Condition ICD10_codes   Age Group  Number of COVID-19 Deaths  \\\n",
       "0  Influenza and pneumonia     J09-J18        0-24                      160.0   \n",
       "1  Influenza and pneumonia     J09-J18       25-34                      772.0   \n",
       "2  Influenza and pneumonia     J09-J18       35-44                     1981.0   \n",
       "3  Influenza and pneumonia     J09-J18       45-54                     5606.0   \n",
       "4  Influenza and pneumonia     J09-J18       55-64                    13490.0   \n",
       "5  Influenza and pneumonia     J09-J18       65-74                    22222.0   \n",
       "6  Influenza and pneumonia     J09-J18       75-84                    25721.0   \n",
       "7  Influenza and pneumonia     J09-J18         85+                    25824.0   \n",
       "8  Influenza and pneumonia     J09-J18  Not stated                        2.0   \n",
       "9  Influenza and pneumonia     J09-J18    All Ages                    95778.0   \n",
       "\n",
       "  Flag  \n",
       "0  NaN  \n",
       "1  NaN  \n",
       "2  NaN  \n",
       "3  NaN  \n",
       "4  NaN  \n",
       "5  NaN  \n",
       "6  NaN  \n",
       "7  NaN  \n",
       "8  NaN  \n",
       "9  NaN  "
      ]
     },
     "execution_count": 3,
     "metadata": {},
     "output_type": "execute_result"
    }
   ],
   "source": [
    "cond.head(10)"
   ]
  },
  {
   "cell_type": "markdown",
   "metadata": {},
   "source": [
    "# Data Wrangling\n",
    "* Only select observations where Age Group = 'All Ages', and drop the 'Flag' column.\n",
    "* Also, reset the index"
   ]
  },
  {
   "cell_type": "code",
   "execution_count": 4,
   "metadata": {
    "scrolled": true
   },
   "outputs": [
    {
     "data": {
      "text/html": [
       "<div>\n",
       "<style scoped>\n",
       "    .dataframe tbody tr th:only-of-type {\n",
       "        vertical-align: middle;\n",
       "    }\n",
       "\n",
       "    .dataframe tbody tr th {\n",
       "        vertical-align: top;\n",
       "    }\n",
       "\n",
       "    .dataframe thead th {\n",
       "        text-align: right;\n",
       "    }\n",
       "</style>\n",
       "<table border=\"1\" class=\"dataframe\">\n",
       "  <thead>\n",
       "    <tr style=\"text-align: right;\">\n",
       "      <th></th>\n",
       "      <th>State</th>\n",
       "      <th>Condition Group</th>\n",
       "      <th>Condition</th>\n",
       "      <th>ICD10_codes</th>\n",
       "      <th>Age Group</th>\n",
       "      <th>Number of COVID-19 Deaths</th>\n",
       "    </tr>\n",
       "  </thead>\n",
       "  <tbody>\n",
       "    <tr>\n",
       "      <th>0</th>\n",
       "      <td>US</td>\n",
       "      <td>Respiratory diseases</td>\n",
       "      <td>Influenza and pneumonia</td>\n",
       "      <td>J09-J18</td>\n",
       "      <td>All Ages</td>\n",
       "      <td>95778.0</td>\n",
       "    </tr>\n",
       "    <tr>\n",
       "      <th>1</th>\n",
       "      <td>US</td>\n",
       "      <td>Respiratory diseases</td>\n",
       "      <td>Chronic lower respiratory diseases</td>\n",
       "      <td>J40-J47</td>\n",
       "      <td>All Ages</td>\n",
       "      <td>19486.0</td>\n",
       "    </tr>\n",
       "    <tr>\n",
       "      <th>2</th>\n",
       "      <td>US</td>\n",
       "      <td>Respiratory diseases</td>\n",
       "      <td>Adult respiratory distress syndrome</td>\n",
       "      <td>J80</td>\n",
       "      <td>All Ages</td>\n",
       "      <td>28090.0</td>\n",
       "    </tr>\n",
       "    <tr>\n",
       "      <th>3</th>\n",
       "      <td>US</td>\n",
       "      <td>Respiratory diseases</td>\n",
       "      <td>Respiratory failure</td>\n",
       "      <td>J96</td>\n",
       "      <td>All Ages</td>\n",
       "      <td>77611.0</td>\n",
       "    </tr>\n",
       "    <tr>\n",
       "      <th>4</th>\n",
       "      <td>US</td>\n",
       "      <td>Respiratory diseases</td>\n",
       "      <td>Respiratory arrest</td>\n",
       "      <td>R09.2</td>\n",
       "      <td>All Ages</td>\n",
       "      <td>4492.0</td>\n",
       "    </tr>\n",
       "    <tr>\n",
       "      <th>...</th>\n",
       "      <td>...</td>\n",
       "      <td>...</td>\n",
       "      <td>...</td>\n",
       "      <td>...</td>\n",
       "      <td>...</td>\n",
       "      <td>...</td>\n",
       "    </tr>\n",
       "    <tr>\n",
       "      <th>1229</th>\n",
       "      <td>PR</td>\n",
       "      <td>Vascular and unspecified dementia</td>\n",
       "      <td>Vascular and unspecified dementia</td>\n",
       "      <td>F01, F03</td>\n",
       "      <td>All Ages</td>\n",
       "      <td>21.0</td>\n",
       "    </tr>\n",
       "    <tr>\n",
       "      <th>1230</th>\n",
       "      <td>PR</td>\n",
       "      <td>Renal failure</td>\n",
       "      <td>Renal failure</td>\n",
       "      <td>N17-N19</td>\n",
       "      <td>All Ages</td>\n",
       "      <td>107.0</td>\n",
       "    </tr>\n",
       "    <tr>\n",
       "      <th>1231</th>\n",
       "      <td>PR</td>\n",
       "      <td>Intentional and unintentional injury, poisonin...</td>\n",
       "      <td>Intentional and unintentional injury, poisonin...</td>\n",
       "      <td>S00-T98, V01-X59, X60-X84, X85-Y09, Y10-Y36, Y...</td>\n",
       "      <td>All Ages</td>\n",
       "      <td>40.0</td>\n",
       "    </tr>\n",
       "    <tr>\n",
       "      <th>1232</th>\n",
       "      <td>PR</td>\n",
       "      <td>All other conditions and causes (residual)</td>\n",
       "      <td>All other conditions and causes (residual)</td>\n",
       "      <td>A00-A39, A42-B99, D00-E07, E15-E64, E70-E90, F...</td>\n",
       "      <td>All Ages</td>\n",
       "      <td>451.0</td>\n",
       "    </tr>\n",
       "    <tr>\n",
       "      <th>1233</th>\n",
       "      <td>PR</td>\n",
       "      <td>COVID-19</td>\n",
       "      <td>COVID-19</td>\n",
       "      <td>U071</td>\n",
       "      <td>All Ages</td>\n",
       "      <td>773.0</td>\n",
       "    </tr>\n",
       "  </tbody>\n",
       "</table>\n",
       "<p>1234 rows × 6 columns</p>\n",
       "</div>"
      ],
      "text/plain": [
       "     State                                    Condition Group  \\\n",
       "0       US                               Respiratory diseases   \n",
       "1       US                               Respiratory diseases   \n",
       "2       US                               Respiratory diseases   \n",
       "3       US                               Respiratory diseases   \n",
       "4       US                               Respiratory diseases   \n",
       "...    ...                                                ...   \n",
       "1229    PR                  Vascular and unspecified dementia   \n",
       "1230    PR                                      Renal failure   \n",
       "1231    PR  Intentional and unintentional injury, poisonin...   \n",
       "1232    PR         All other conditions and causes (residual)   \n",
       "1233    PR                                           COVID-19   \n",
       "\n",
       "                                              Condition  \\\n",
       "0                               Influenza and pneumonia   \n",
       "1                    Chronic lower respiratory diseases   \n",
       "2                   Adult respiratory distress syndrome   \n",
       "3                                   Respiratory failure   \n",
       "4                                    Respiratory arrest   \n",
       "...                                                 ...   \n",
       "1229                  Vascular and unspecified dementia   \n",
       "1230                                      Renal failure   \n",
       "1231  Intentional and unintentional injury, poisonin...   \n",
       "1232         All other conditions and causes (residual)   \n",
       "1233                                           COVID-19   \n",
       "\n",
       "                                            ICD10_codes Age Group  \\\n",
       "0                                               J09-J18  All Ages   \n",
       "1                                               J40-J47  All Ages   \n",
       "2                                                   J80  All Ages   \n",
       "3                                                   J96  All Ages   \n",
       "4                                                 R09.2  All Ages   \n",
       "...                                                 ...       ...   \n",
       "1229                                           F01, F03  All Ages   \n",
       "1230                                            N17-N19  All Ages   \n",
       "1231  S00-T98, V01-X59, X60-X84, X85-Y09, Y10-Y36, Y...  All Ages   \n",
       "1232  A00-A39, A42-B99, D00-E07, E15-E64, E70-E90, F...  All Ages   \n",
       "1233                                               U071  All Ages   \n",
       "\n",
       "      Number of COVID-19 Deaths  \n",
       "0                       95778.0  \n",
       "1                       19486.0  \n",
       "2                       28090.0  \n",
       "3                       77611.0  \n",
       "4                        4492.0  \n",
       "...                         ...  \n",
       "1229                       21.0  \n",
       "1230                      107.0  \n",
       "1231                       40.0  \n",
       "1232                      451.0  \n",
       "1233                      773.0  \n",
       "\n",
       "[1234 rows x 6 columns]"
      ]
     },
     "execution_count": 4,
     "metadata": {},
     "output_type": "execute_result"
    }
   ],
   "source": [
    "cond3 = cond.loc[(cond['Age Group'] == \"All Ages\")].iloc[:, 3:].reset_index().drop(['index','Flag'], axis=1)\n",
    "\n",
    "cond3"
   ]
  },
  {
   "cell_type": "markdown",
   "metadata": {},
   "source": [
    "* Having used 'All Age' to filter out unwanted observations, you can now drop the State, ICD10_codes, Age Group columns entirely. You should only be left with Condition Group, Condition, and Number of COVID-10 Deaths columns."
   ]
  },
  {
   "cell_type": "code",
   "execution_count": 5,
   "metadata": {},
   "outputs": [
    {
     "data": {
      "text/html": [
       "<div>\n",
       "<style scoped>\n",
       "    .dataframe tbody tr th:only-of-type {\n",
       "        vertical-align: middle;\n",
       "    }\n",
       "\n",
       "    .dataframe tbody tr th {\n",
       "        vertical-align: top;\n",
       "    }\n",
       "\n",
       "    .dataframe thead th {\n",
       "        text-align: right;\n",
       "    }\n",
       "</style>\n",
       "<table border=\"1\" class=\"dataframe\">\n",
       "  <thead>\n",
       "    <tr style=\"text-align: right;\">\n",
       "      <th></th>\n",
       "      <th>Condition Group</th>\n",
       "      <th>Condition</th>\n",
       "      <th>Number of COVID-19 Deaths</th>\n",
       "    </tr>\n",
       "  </thead>\n",
       "  <tbody>\n",
       "    <tr>\n",
       "      <th>0</th>\n",
       "      <td>Respiratory diseases</td>\n",
       "      <td>Influenza and pneumonia</td>\n",
       "      <td>95778.0</td>\n",
       "    </tr>\n",
       "    <tr>\n",
       "      <th>1</th>\n",
       "      <td>Respiratory diseases</td>\n",
       "      <td>Chronic lower respiratory diseases</td>\n",
       "      <td>19486.0</td>\n",
       "    </tr>\n",
       "    <tr>\n",
       "      <th>2</th>\n",
       "      <td>Respiratory diseases</td>\n",
       "      <td>Adult respiratory distress syndrome</td>\n",
       "      <td>28090.0</td>\n",
       "    </tr>\n",
       "    <tr>\n",
       "      <th>3</th>\n",
       "      <td>Respiratory diseases</td>\n",
       "      <td>Respiratory failure</td>\n",
       "      <td>77611.0</td>\n",
       "    </tr>\n",
       "    <tr>\n",
       "      <th>4</th>\n",
       "      <td>Respiratory diseases</td>\n",
       "      <td>Respiratory arrest</td>\n",
       "      <td>4492.0</td>\n",
       "    </tr>\n",
       "    <tr>\n",
       "      <th>...</th>\n",
       "      <td>...</td>\n",
       "      <td>...</td>\n",
       "      <td>...</td>\n",
       "    </tr>\n",
       "    <tr>\n",
       "      <th>1229</th>\n",
       "      <td>Vascular and unspecified dementia</td>\n",
       "      <td>Vascular and unspecified dementia</td>\n",
       "      <td>21.0</td>\n",
       "    </tr>\n",
       "    <tr>\n",
       "      <th>1230</th>\n",
       "      <td>Renal failure</td>\n",
       "      <td>Renal failure</td>\n",
       "      <td>107.0</td>\n",
       "    </tr>\n",
       "    <tr>\n",
       "      <th>1231</th>\n",
       "      <td>Intentional and unintentional injury, poisonin...</td>\n",
       "      <td>Intentional and unintentional injury, poisonin...</td>\n",
       "      <td>40.0</td>\n",
       "    </tr>\n",
       "    <tr>\n",
       "      <th>1232</th>\n",
       "      <td>All other conditions and causes (residual)</td>\n",
       "      <td>All other conditions and causes (residual)</td>\n",
       "      <td>451.0</td>\n",
       "    </tr>\n",
       "    <tr>\n",
       "      <th>1233</th>\n",
       "      <td>COVID-19</td>\n",
       "      <td>COVID-19</td>\n",
       "      <td>773.0</td>\n",
       "    </tr>\n",
       "  </tbody>\n",
       "</table>\n",
       "<p>1234 rows × 3 columns</p>\n",
       "</div>"
      ],
      "text/plain": [
       "                                        Condition Group  \\\n",
       "0                                  Respiratory diseases   \n",
       "1                                  Respiratory diseases   \n",
       "2                                  Respiratory diseases   \n",
       "3                                  Respiratory diseases   \n",
       "4                                  Respiratory diseases   \n",
       "...                                                 ...   \n",
       "1229                  Vascular and unspecified dementia   \n",
       "1230                                      Renal failure   \n",
       "1231  Intentional and unintentional injury, poisonin...   \n",
       "1232         All other conditions and causes (residual)   \n",
       "1233                                           COVID-19   \n",
       "\n",
       "                                              Condition  \\\n",
       "0                               Influenza and pneumonia   \n",
       "1                    Chronic lower respiratory diseases   \n",
       "2                   Adult respiratory distress syndrome   \n",
       "3                                   Respiratory failure   \n",
       "4                                    Respiratory arrest   \n",
       "...                                                 ...   \n",
       "1229                  Vascular and unspecified dementia   \n",
       "1230                                      Renal failure   \n",
       "1231  Intentional and unintentional injury, poisonin...   \n",
       "1232         All other conditions and causes (residual)   \n",
       "1233                                           COVID-19   \n",
       "\n",
       "      Number of COVID-19 Deaths  \n",
       "0                       95778.0  \n",
       "1                       19486.0  \n",
       "2                       28090.0  \n",
       "3                       77611.0  \n",
       "4                        4492.0  \n",
       "...                         ...  \n",
       "1229                       21.0  \n",
       "1230                      107.0  \n",
       "1231                       40.0  \n",
       "1232                      451.0  \n",
       "1233                      773.0  \n",
       "\n",
       "[1234 rows x 3 columns]"
      ]
     },
     "execution_count": 5,
     "metadata": {},
     "output_type": "execute_result"
    }
   ],
   "source": [
    "cond4 = cond3.filter(['Condition Group', 'Condition', 'Number of COVID-19 Deaths'])\n",
    "cond4"
   ]
  },
  {
   "cell_type": "markdown",
   "metadata": {},
   "source": [
    "# Define a User Function to create 3 'bins' or groups for the Number of COVID-19 Deaths variable.\n",
    "* The recode will work as follows:\n",
    "* Anything less than 1000 = \"Less than or equal to 1000\"\n",
    "* Anything between 1000 and 10000 = \"Above 1000 and less or equal to 10,000\"\n",
    "* Anything greater than or equal to 10,000 = \"Above 10,000\""
   ]
  },
  {
   "cell_type": "code",
   "execution_count": 6,
   "metadata": {},
   "outputs": [],
   "source": [
    "def dependent_recode (series): \n",
    "    if series <= 1000:\n",
    "        return \"Less than or equal to 1000\"\n",
    "    if series > 1000 and series < 10000: \n",
    "        return \"Above 1000 and less or equal to 10,000\"\n",
    "    if series >= 10000: \n",
    "        return \"Above 10,000\""
   ]
  },
  {
   "cell_type": "markdown",
   "metadata": {},
   "source": [
    "* Now use the .apply() function to recode the 'Number of COVID-19 Deaths' variable:"
   ]
  },
  {
   "cell_type": "code",
   "execution_count": 7,
   "metadata": {},
   "outputs": [],
   "source": [
    "cond4['Number of COVID-19 Deaths'] = cond4['Number of COVID-19 Deaths'].apply(dependent_recode)"
   ]
  },
  {
   "cell_type": "markdown",
   "metadata": {},
   "source": [
    "* Display dataset to confirm successful recode:"
   ]
  },
  {
   "cell_type": "code",
   "execution_count": 8,
   "metadata": {},
   "outputs": [
    {
     "data": {
      "text/html": [
       "<div>\n",
       "<style scoped>\n",
       "    .dataframe tbody tr th:only-of-type {\n",
       "        vertical-align: middle;\n",
       "    }\n",
       "\n",
       "    .dataframe tbody tr th {\n",
       "        vertical-align: top;\n",
       "    }\n",
       "\n",
       "    .dataframe thead th {\n",
       "        text-align: right;\n",
       "    }\n",
       "</style>\n",
       "<table border=\"1\" class=\"dataframe\">\n",
       "  <thead>\n",
       "    <tr style=\"text-align: right;\">\n",
       "      <th></th>\n",
       "      <th>Condition Group</th>\n",
       "      <th>Condition</th>\n",
       "      <th>Number of COVID-19 Deaths</th>\n",
       "    </tr>\n",
       "  </thead>\n",
       "  <tbody>\n",
       "    <tr>\n",
       "      <th>0</th>\n",
       "      <td>Respiratory diseases</td>\n",
       "      <td>Influenza and pneumonia</td>\n",
       "      <td>Above 10,000</td>\n",
       "    </tr>\n",
       "    <tr>\n",
       "      <th>1</th>\n",
       "      <td>Respiratory diseases</td>\n",
       "      <td>Chronic lower respiratory diseases</td>\n",
       "      <td>Above 10,000</td>\n",
       "    </tr>\n",
       "    <tr>\n",
       "      <th>2</th>\n",
       "      <td>Respiratory diseases</td>\n",
       "      <td>Adult respiratory distress syndrome</td>\n",
       "      <td>Above 10,000</td>\n",
       "    </tr>\n",
       "    <tr>\n",
       "      <th>3</th>\n",
       "      <td>Respiratory diseases</td>\n",
       "      <td>Respiratory failure</td>\n",
       "      <td>Above 10,000</td>\n",
       "    </tr>\n",
       "    <tr>\n",
       "      <th>4</th>\n",
       "      <td>Respiratory diseases</td>\n",
       "      <td>Respiratory arrest</td>\n",
       "      <td>Above 1000 and less or equal to 10,000</td>\n",
       "    </tr>\n",
       "  </tbody>\n",
       "</table>\n",
       "</div>"
      ],
      "text/plain": [
       "        Condition Group                            Condition  \\\n",
       "0  Respiratory diseases              Influenza and pneumonia   \n",
       "1  Respiratory diseases   Chronic lower respiratory diseases   \n",
       "2  Respiratory diseases  Adult respiratory distress syndrome   \n",
       "3  Respiratory diseases                  Respiratory failure   \n",
       "4  Respiratory diseases                   Respiratory arrest   \n",
       "\n",
       "                Number of COVID-19 Deaths  \n",
       "0                            Above 10,000  \n",
       "1                            Above 10,000  \n",
       "2                            Above 10,000  \n",
       "3                            Above 10,000  \n",
       "4  Above 1000 and less or equal to 10,000  "
      ]
     },
     "execution_count": 8,
     "metadata": {},
     "output_type": "execute_result"
    }
   ],
   "source": [
    "cond4.head()"
   ]
  },
  {
   "cell_type": "markdown",
   "metadata": {},
   "source": [
    "* Next, convert the remaining columns into discreet numerical values using the pandas Categorical function. \n",
    "* then generate unique codes for each Condition Group, each Condition, and Number of COVID-19 Deaths."
   ]
  },
  {
   "cell_type": "code",
   "execution_count": 9,
   "metadata": {},
   "outputs": [
    {
     "name": "stdout",
     "output_type": "stream",
     "text": [
      "(1234, 2)\n",
      "[[ 9 11]\n",
      " [ 9  7]\n",
      " [ 9  0]\n",
      " ...\n",
      " [ 5 12]\n",
      " [ 0  1]\n",
      " [ 2  3]]\n"
     ]
    }
   ],
   "source": [
    "cond4['Condition Group'] = pd.Categorical(cond4['Condition Group'])\n",
    "cond4['Condition Group'] = cond4['Condition Group'].cat.codes\n",
    "\n",
    "cond4['Condition'] = pd.Categorical(cond4['Condition'])\n",
    "cond4['Condition'] = cond4['Condition'].cat.codes\n",
    "\n",
    "\n",
    "cond4['Number of COVID-19 Deaths'] = pd.Categorical(cond4['Number of COVID-19 Deaths'])\n",
    "cond4['Number of COVID-19 Deaths'] = cond4['Number of COVID-19 Deaths'].cat.codes\n",
    "\n",
    "cond5 = cond4.drop(['Number of COVID-19 Deaths'], axis=1).values\n",
    "\n",
    "print(cond5.shape)\n",
    "print(cond5)"
   ]
  },
  {
   "cell_type": "markdown",
   "metadata": {},
   "source": [
    "* Create variable n_cols and store the shape of the column at position index 1 of the dataset.\n",
    "* Create target vairable and convert it from one column to multiple columns using the \"to_categorical()\" function.\n",
    "* Create input_nodes and output_nodes to hold the number of nodes for the input and output layers respectively."
   ]
  },
  {
   "cell_type": "code",
   "execution_count": 10,
   "metadata": {},
   "outputs": [
    {
     "name": "stdout",
     "output_type": "stream",
     "text": [
      "2\n",
      "1234\n",
      "[[1. 0. 0.]\n",
      " [1. 0. 0.]\n",
      " [1. 0. 0.]\n",
      " ...\n",
      " [0. 0. 1.]\n",
      " [0. 0. 1.]\n",
      " [0. 0. 1.]]\n",
      "3\n"
     ]
    }
   ],
   "source": [
    "n_cols = cond5.shape[1]\n",
    "input_nodes = cond5.shape[0]\n",
    "target = to_categorical(cond4['Number of COVID-19 Deaths'])\n",
    "output_nodes = len(target[1])\n",
    "print(n_cols)\n",
    "print(input_nodes)\n",
    "print(target)\n",
    "print(output_nodes)"
   ]
  },
  {
   "cell_type": "markdown",
   "metadata": {},
   "source": [
    "# Next, create model structure, compile, fit, and predict. Use 'relu' as the activation function for the hidden layers, and 'softmax' as the activation function for the output layer.\n",
    "# Also, use 'adam' as optimizer, 'categorical_crossentropy' as the loss function, and metrics=['accuracy'].\n",
    "# Ensure EarlyStopping doesn't exceed 2 epochs if there's no improvement on accuracy."
   ]
  },
  {
   "cell_type": "code",
   "execution_count": 11,
   "metadata": {},
   "outputs": [
    {
     "name": "stdout",
     "output_type": "stream",
     "text": [
      "Epoch 1/10\n",
      "29/29 [==============================] - 1s 25ms/step - loss: 0.7159 - accuracy: 0.8111 - val_loss: 0.4634 - val_accuracy: 0.8544\n",
      "Epoch 2/10\n",
      "29/29 [==============================] - 1s 21ms/step - loss: 0.5832 - accuracy: 0.8204 - val_loss: 0.4567 - val_accuracy: 0.8544\n",
      "Epoch 3/10\n",
      "29/29 [==============================] - 1s 28ms/step - loss: 0.5812 - accuracy: 0.8204 - val_loss: 0.4930 - val_accuracy: 0.8544\n",
      "Epoch 4/10\n",
      "29/29 [==============================] - 1s 22ms/step - loss: 0.5602 - accuracy: 0.8204 - val_loss: 0.4469 - val_accuracy: 0.8544\n",
      "Epoch 5/10\n",
      "29/29 [==============================] - 1s 22ms/step - loss: 0.5535 - accuracy: 0.8204 - val_loss: 0.4450 - val_accuracy: 0.8544\n",
      "Epoch 6/10\n",
      "29/29 [==============================] - 1s 22ms/step - loss: 0.5472 - accuracy: 0.8192 - val_loss: 0.4730 - val_accuracy: 0.8544\n",
      "Epoch 7/10\n",
      "29/29 [==============================] - 1s 23ms/step - loss: 0.5805 - accuracy: 0.8273 - val_loss: 0.4291 - val_accuracy: 0.8544\n",
      "Epoch 8/10\n",
      "29/29 [==============================] - 1s 23ms/step - loss: 0.5284 - accuracy: 0.8192 - val_loss: 0.4369 - val_accuracy: 0.8544\n",
      "Epoch 9/10\n",
      "29/29 [==============================] - 1s 23ms/step - loss: 0.5236 - accuracy: 0.8297 - val_loss: 0.4221 - val_accuracy: 0.8544\n",
      "Epoch 10/10\n",
      "29/29 [==============================] - 1s 24ms/step - loss: 0.5238 - accuracy: 0.8273 - val_loss: 0.4264 - val_accuracy: 0.8544\n",
      "<tensorflow.python.keras.callbacks.History object at 0x7faf42159110>\n"
     ]
    }
   ],
   "source": [
    "model = Sequential()\n",
    "\n",
    "model.add(Dense(input_nodes, activation='relu'))\n",
    "\n",
    "model.add(Dense(input_nodes, activation='relu', input_shape = (n_cols,)))\n",
    "\n",
    "model.add(Dense(input_nodes, activation='relu'))\n",
    "\n",
    "model.add(Dense(input_nodes, activation='relu'))\n",
    "\n",
    "model.add(Dense(output_nodes, activation='softmax'))\n",
    "\n",
    "model.compile(optimizer='adam', loss='categorical_crossentropy', metrics=['accuracy'])\n",
    "\n",
    "early_stopping_monitor = EarlyStopping(patience=2)\n",
    "\n",
    "history = model.fit(cond5, target, batch_size=30, verbose=1, validation_split=0.3, epochs=10, callbacks=[early_stopping_monitor])\n",
    "\n",
    "print(history)\n"
   ]
  },
  {
   "cell_type": "markdown",
   "metadata": {},
   "source": [
    "# Evaluate Model"
   ]
  },
  {
   "cell_type": "code",
   "execution_count": 12,
   "metadata": {},
   "outputs": [
    {
     "name": "stdout",
     "output_type": "stream",
     "text": [
      "39/39 [==============================] - 0s 5ms/step - loss: 0.4987 - accuracy: 0.8371\n",
      "[0.4986804127693176, 0.8371150493621826]\n"
     ]
    }
   ],
   "source": [
    "print(model.evaluate(cond5, target, verbose=True))"
   ]
  },
  {
   "cell_type": "markdown",
   "metadata": {},
   "source": [
    "# Predict and Print results"
   ]
  },
  {
   "cell_type": "code",
   "execution_count": 13,
   "metadata": {},
   "outputs": [],
   "source": [
    "predictions = model.predict(cond5)"
   ]
  },
  {
   "cell_type": "code",
   "execution_count": 14,
   "metadata": {},
   "outputs": [
    {
     "name": "stdout",
     "output_type": "stream",
     "text": [
      "[[0.02675855 0.14373966 0.8295018 ]\n",
      " [0.02043336 0.10765695 0.8719097 ]\n",
      " [0.00976269 0.06343191 0.9268054 ]\n",
      " ...\n",
      " [0.0134195  0.07586592 0.91071457]\n",
      " [0.03173228 0.53566617 0.4326016 ]\n",
      " [0.03311935 0.13562658 0.83125407]]\n"
     ]
    }
   ],
   "source": [
    "print(predictions)"
   ]
  },
  {
   "cell_type": "markdown",
   "metadata": {},
   "source": [
    "# Summarize Model Structure:"
   ]
  },
  {
   "cell_type": "code",
   "execution_count": 15,
   "metadata": {},
   "outputs": [
    {
     "name": "stdout",
     "output_type": "stream",
     "text": [
      "Model: \"sequential\"\n",
      "_________________________________________________________________\n",
      "Layer (type)                 Output Shape              Param #   \n",
      "=================================================================\n",
      "dense (Dense)                (None, 1234)              3702      \n",
      "_________________________________________________________________\n",
      "dense_1 (Dense)              (None, 1234)              1523990   \n",
      "_________________________________________________________________\n",
      "dense_2 (Dense)              (None, 1234)              1523990   \n",
      "_________________________________________________________________\n",
      "dense_3 (Dense)              (None, 1234)              1523990   \n",
      "_________________________________________________________________\n",
      "dense_4 (Dense)              (None, 3)                 3705      \n",
      "=================================================================\n",
      "Total params: 4,579,377\n",
      "Trainable params: 4,579,377\n",
      "Non-trainable params: 0\n",
      "_________________________________________________________________\n"
     ]
    }
   ],
   "source": [
    "model.summary()"
   ]
  },
  {
   "cell_type": "markdown",
   "metadata": {},
   "source": [
    "# Visualize the model history"
   ]
  },
  {
   "cell_type": "markdown",
   "metadata": {},
   "source": [
    "# Import required package"
   ]
  },
  {
   "cell_type": "code",
   "execution_count": 16,
   "metadata": {},
   "outputs": [],
   "source": [
    "import matplotlib.pyplot as plt"
   ]
  },
  {
   "cell_type": "code",
   "execution_count": 17,
   "metadata": {},
   "outputs": [
    {
     "data": {
      "image/png": "[encoded data removed]",
      "text/plain": [
       "<Figure size 432x288 with 1 Axes>"
      ]
     },
     "metadata": {
      "needs_background": "light"
     },
     "output_type": "display_data"
    }
   ],
   "source": [
    "# Plot history: Categorical Crossentropy\n",
    "plt.plot(history.history['loss'], label='Categorical Crossentropy (testing data)')\n",
    "plt.plot(history.history['val_loss'], label='Categorical Crossentropy (validation data)')\n",
    "plt.title('Categorical Crossentropy for Number of COVID-19 Deaths')\n",
    "plt.ylabel('Categorical Crossentropy value')\n",
    "plt.xlabel('No. epoch')\n",
    "plt.legend(loc=\"upper left\")\n",
    "plt.show()"
   ]
  },
  {
   "cell_type": "code",
   "execution_count": null,
   "metadata": {},
   "outputs": [],
   "source": []
  }
 ],
 "metadata": {
  "kernelspec": {
   "display_name": "Python 3",
   "language": "python",
   "name": "python3"
  },
  "language_info": {
   "codemirror_mode": {
    "name": "ipython",
    "version": 3
   },
   "file_extension": ".py",
   "mimetype": "text/x-python",
   "name": "python",
   "nbconvert_exporter": "python",
   "pygments_lexer": "ipython3",
   "version": "3.7.9"
  }
 },
 "nbformat": 4,
 "nbformat_minor": 4
}
